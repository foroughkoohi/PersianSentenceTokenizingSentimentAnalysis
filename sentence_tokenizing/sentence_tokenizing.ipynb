{
 "cells": [
  {
   "cell_type": "code",
   "execution_count": null,
   "metadata": {},
   "outputs": [],
   "source": [
    "from parsinorm import Tokenizer\n",
    "import pandas as pd"
   ]
  },
  {
   "cell_type": "code",
   "execution_count": null,
   "metadata": {},
   "outputs": [],
   "source": [
    "tokenizer = Tokenizer()\n",
    "tokenized_list = []"
   ]
  },
  {
   "cell_type": "code",
   "execution_count": null,
   "metadata": {},
   "outputs": [],
   "source": [
    "file_path = input(\"Please provide the path of the CSV file:\")\n",
    "text_column_index_str = input(\"Please provide the index for the text column:\")\n",
    "rating_column_index_str = input(\"Please provide the index for the rating column:\")\n",
    "\n",
    "try:\n",
    "    text_column_index = int(text_column_index_str)\n",
    "    rating_column_index = int(rating_column_index_str)\n",
    "except:\n",
    "    print(\"The input for the column index is incorrect.\")\n",
    "\n",
    "tokenized_file_name = input(\"Please provide the name of the output file along with its file format(.csv):\")"
   ]
  },
  {
   "cell_type": "code",
   "execution_count": null,
   "metadata": {},
   "outputs": [],
   "source": [
    "try:\n",
    "    df = pd.read_csv(file_path)\n",
    "except:\n",
    "    print(\"There seems to be an issue with the file path!\")"
   ]
  },
  {
   "cell_type": "code",
   "execution_count": null,
   "metadata": {},
   "outputs": [],
   "source": [
    "tokenized_dict = {}\n",
    "label = None"
   ]
  },
  {
   "cell_type": "code",
   "execution_count": null,
   "metadata": {},
   "outputs": [],
   "source": [
    "for index, row in df.iterrows():\n",
    "    comment_list = tokenizer.sentence_tokenize(row[text_column_index], verb_seperator=True)\n",
    "    sentence_index = [index] * len(comment_list)\n",
    "    sentence_rating = row[rating_column_index]\n",
    "\n",
    "    if sentence_rating>=4:\n",
    "        label = 'positive'\n",
    "    elif (sentence_rating <4) and (sentence_rating <= 3):\n",
    "        label = 'neutral'\n",
    "    else:\n",
    "        label = 'negative'\n",
    "    \n",
    "    sentence_label = [label] * len(comment_list)\n",
    "    \n",
    "\n",
    "    tokenized_dict = {'Index':sentence_index, 'Sentences':comment_list, 'Label':sentence_label}\n",
    "    df_tokenized = pd.DataFrame(tokenized_dict)\n",
    "    df_tokenized.to_csv(tokenized_file_name, mode = 'a', index = False, header = False, sep = \",\")\n",
    "    "
   ]
  }
 ],
 "metadata": {
  "kernelspec": {
   "display_name": "sen_tok",
   "language": "python",
   "name": "python3"
  },
  "language_info": {
   "codemirror_mode": {
    "name": "ipython",
    "version": 3
   },
   "file_extension": ".py",
   "mimetype": "text/x-python",
   "name": "python",
   "nbconvert_exporter": "python",
   "pygments_lexer": "ipython3",
   "version": "3.6.13"
  }
 },
 "nbformat": 4,
 "nbformat_minor": 2
}
