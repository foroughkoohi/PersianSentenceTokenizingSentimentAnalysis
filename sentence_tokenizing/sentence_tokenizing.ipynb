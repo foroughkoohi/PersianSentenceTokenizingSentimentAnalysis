{
 "cells": [
  {
   "cell_type": "code",
   "execution_count": null,
   "metadata": {},
   "outputs": [],
   "source": [
    "from parsinorm import Tokenizer\n",
    "import pandas as pd"
   ]
  },
  {
   "cell_type": "code",
   "execution_count": null,
   "metadata": {},
   "outputs": [],
   "source": [
    "tokenizer = Tokenizer()\n",
    "tokenized_list = []"
   ]
  },
  {
   "cell_type": "code",
   "execution_count": null,
   "metadata": {},
   "outputs": [],
   "source": [
    "file_path = input(\"Please provide the path of the CSV file:\")\n",
    "text_column_index_str = input(\"Please provide the index for the text column:\")\n",
    "rating_column_index_str = input(\"Please provide the index for the rating column:\")\n",
    "\n",
    "try:\n",
    "    text_column_index = int(text_column_index_str)\n",
    "    rating_column_index = int(rating_column_index_str)\n",
    "except:\n",
    "    print(\"The input for the column index is incorrect.\")\n",
    "\n",
    "tokenized_file_name = input(\"Please provide the name of the output file along with its file format(.csv):\")"
   ]
  },
  {
   "cell_type": "code",
   "execution_count": null,
   "metadata": {},
   "outputs": [],
   "source": [
    "try:\n",
    "    df = pd.read_csv(file_path)\n",
    "except:\n",
    "    print(\"There seems to be an issue with the file path!\")"
   ]
  },
  {
   "cell_type": "code",
   "execution_count": null,
   "metadata": {},
   "outputs": [],
   "source": [
    "tokenized_dict = {}"
   ]
  },
  {
   "cell_type": "code",
   "execution_count": null,
   "metadata": {},
   "outputs": [],
   "source": [
    "for index, row in df.iterrows():\n",
    "    comment_list = tokenizer.sentence_tokenize(row[text_column_index], verb_seperator=True)\n",
    "    sentence_index = [index] * len(comment_list)\n",
    "    sentence_rating = [row[rating_column_index]] * len(comment_list)\n",
    "    tokenized_dict = {'index':sentence_index, 'Sentences':comment_list}\n",
    "\n",
    "\n",
    "    "
   ]
  },
  {
   "cell_type": "code",
   "execution_count": null,
   "metadata": {},
   "outputs": [],
   "source": [
    "tokenized_dict = {'sentences': tokenized_list}\n",
    "df_tokenized = pd.DataFrame(tokenized_dict)\n",
    "df_tokenized.to_csv(tokenized_file_name)"
   ]
  },
  {
   "cell_type": "code",
   "execution_count": 2,
   "metadata": {},
   "outputs": [
    {
     "name": "stdout",
     "output_type": "stream",
     "text": [
      "[12, 12, 12]\n"
     ]
    }
   ],
   "source": []
  },
  {
   "cell_type": "code",
   "execution_count": null,
   "metadata": {},
   "outputs": [],
   "source": []
  }
 ],
 "metadata": {
  "kernelspec": {
   "display_name": "sen_tok",
   "language": "python",
   "name": "python3"
  },
  "language_info": {
   "codemirror_mode": {
    "name": "ipython",
    "version": 3
   },
   "file_extension": ".py",
   "mimetype": "text/x-python",
   "name": "python",
   "nbconvert_exporter": "python",
   "pygments_lexer": "ipython3",
   "version": "3.6.13"
  }
 },
 "nbformat": 4,
 "nbformat_minor": 2
}
