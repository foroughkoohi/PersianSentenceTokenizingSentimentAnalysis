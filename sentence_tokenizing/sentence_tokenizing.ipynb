{
 "cells": [
  {
   "cell_type": "code",
   "execution_count": 1,
   "metadata": {},
   "outputs": [],
   "source": [
    "from parsinorm import Tokenizer\n",
    "import pandas as pd"
   ]
  },
  {
   "cell_type": "code",
   "execution_count": 7,
   "metadata": {},
   "outputs": [],
   "source": [
    "tokenizer = Tokenizer()\n",
    "tokenized_list = []"
   ]
  },
  {
   "cell_type": "code",
   "execution_count": 8,
   "metadata": {},
   "outputs": [],
   "source": [
    "file_path = input(\"Please provide the path of the CSV file:\")\n",
    "column_index_str = input(\"Please provide the index for the target column:\")\n",
    "\n",
    "try:\n",
    "    column_index = int(column_index_str)\n",
    "except:\n",
    "    print(\"The input for the culmn index is incorrect.\")\n",
    "\n",
    "tokenized_file_name = input(\"Please provide the name of the output file along with its file format(.csv):\")"
   ]
  },
  {
   "cell_type": "code",
   "execution_count": 9,
   "metadata": {},
   "outputs": [],
   "source": [
    "try:\n",
    "    df = pd.read_csv(file_path)\n",
    "except:\n",
    "    print(\"There seems to be an issue with the file path!\")"
   ]
  },
  {
   "cell_type": "code",
   "execution_count": 10,
   "metadata": {},
   "outputs": [
    {
     "name": "stderr",
     "output_type": "stream",
     "text": [
      "Exception ignored in: <bound method Model.__del__ of <wapiti.api.Model object at 0x722b4fcc1ef0>>\n",
      "Traceback (most recent call last):\n",
      "  File \"/home/forough/anaconda3/envs/sen_tok/lib/python3.6/site-packages/wapiti/api.py\", line 290, in __del__\n",
      "    _wapiti.api_free_model(self._model)\n",
      "KeyboardInterrupt\n"
     ]
    }
   ],
   "source": [
    "for index, row in df.iterrows():\n",
    "    l = tokenizer.sentence_tokenize(row[column_index], verb_seperator=True)\n",
    "    tokenized_list = tokenized_list + l"
   ]
  },
  {
   "cell_type": "code",
   "execution_count": null,
   "metadata": {},
   "outputs": [],
   "source": [
    "tokenized_dict = {'sentences': tokenized_list}\n",
    "df_tokenized = pd.DataFrame(tokenized_dict)\n",
    "df_tokenized.to_csv(tokenized_file_name)"
   ]
  }
 ],
 "metadata": {
  "kernelspec": {
   "display_name": "sen_tok",
   "language": "python",
   "name": "python3"
  },
  "language_info": {
   "codemirror_mode": {
    "name": "ipython",
    "version": 3
   },
   "file_extension": ".py",
   "mimetype": "text/x-python",
   "name": "python",
   "nbconvert_exporter": "python",
   "pygments_lexer": "ipython3",
   "version": "3.6.13"
  }
 },
 "nbformat": 4,
 "nbformat_minor": 2
}
