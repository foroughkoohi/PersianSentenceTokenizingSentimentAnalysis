{
 "cells": [
  {
   "cell_type": "code",
   "execution_count": null,
   "metadata": {},
   "outputs": [],
   "source": [
    "from transformers import AutoModelForSequenceClassification, AutoTokenizer\n",
    "import torch\n",
    "from parsinorm import Tokenizer"
   ]
  },
  {
   "cell_type": "code",
   "execution_count": null,
   "metadata": {},
   "outputs": [],
   "source": [
    "def analyze_sentiment_three_classes(sentences):\n",
    "    # Load pre-trained model \n",
    "    # Load model directly\n",
    "    model = AutoModelForSequenceClassification.from_pretrained(\"dadashzadeh/roberta-sentiment-persian\")\n",
    "\n",
    "    inputs = sentences\n",
    "\n",
    "    # Get the model predictions\n",
    "    with torch.no_grad():\n",
    "        outputs = model(**inputs)\n",
    "\n",
    "    # Get the predicted label\n",
    "    predicted_label = torch.argmax(outputs.logits, dim=1).item()\n",
    "\n",
    "    # Print the raw predicted label for debugging\n",
    "    print(f\"Raw Predicted Label: {predicted_label}\")\n",
    "\n",
    "    # Map the label to sentiment\n",
    "    sentiment_mapping = {0: \"negative\", 1: \"positive\", 2: \"neutral\"}\n",
    "\n",
    "    # Update the sentiment_mapping based on the actual predicted label\n",
    "    if predicted_label not in sentiment_mapping:\n",
    "        sentiment_mapping[predicted_label] = f\"مجهول-{predicted_label}\"\n",
    "\n",
    "    sentiment = sentiment_mapping[predicted_label]\n",
    "\n",
    "    return sentiment"
   ]
  }
 ],
 "metadata": {
  "kernelspec": {
   "display_name": "sen_tok",
   "language": "python",
   "name": "python3"
  },
  "language_info": {
   "codemirror_mode": {
    "name": "ipython",
    "version": 3
   },
   "file_extension": ".py",
   "mimetype": "text/x-python",
   "name": "python",
   "nbconvert_exporter": "python",
   "pygments_lexer": "ipython3",
   "version": "3.6.13"
  }
 },
 "nbformat": 4,
 "nbformat_minor": 2
}
