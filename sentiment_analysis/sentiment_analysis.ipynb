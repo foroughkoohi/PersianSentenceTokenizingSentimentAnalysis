{
 "cells": [
  {
   "cell_type": "code",
   "execution_count": null,
   "metadata": {},
   "outputs": [],
   "source": [
    "from transformers import AutoModelForSequenceClassification, AutoTokenizer\n",
    "import torch\n",
    "import pandas as pd"
   ]
  },
  {
   "cell_type": "code",
   "execution_count": null,
   "metadata": {},
   "outputs": [],
   "source": [
    "def analyze_sentiment_three_classes(sentence):\n",
    "    # Load pre-trained model \n",
    "    # Load model directly\n",
    "    tokenizer = AutoTokenizer.from_pretrained(\"dadashzadeh/roberta-sentiment-persian\")\n",
    "    model = AutoModelForSequenceClassification.from_pretrained(\"dadashzadeh/roberta-sentiment-persian\")\n",
    "    # Tokenize and process the input sentence\n",
    "    inputs = tokenizer(sentence, return_tensors=\"pt\", truncation=True)\n",
    "\n",
    "    # Get the model predictions\n",
    "    with torch.no_grad():\n",
    "        outputs = model(**inputs)\n",
    "\n",
    "    # Get the predicted label\n",
    "    predicted_label = torch.argmax(outputs.logits, dim=1).item()\n",
    "\n",
    "    # Print the raw predicted label for debugging\n",
    "    # print(f\"Raw Predicted Label: {predicted_label}\")\n",
    "\n",
    "    # Map the label to sentiment\n",
    "    sentiment_mapping = {0: \"negative\", 1: \"positive\", 2: \"neutral\"}\n",
    "\n",
    "    # Update the sentiment_mapping based on the actual predicted label\n",
    "    if predicted_label not in sentiment_mapping:\n",
    "        sentiment_mapping[predicted_label] = f\"مجهول-{predicted_label}\"\n",
    "\n",
    "    sentiment = sentiment_mapping[predicted_label]\n",
    "\n",
    "    return sentiment"
   ]
  },
  {
   "cell_type": "code",
   "execution_count": null,
   "metadata": {},
   "outputs": [],
   "source": [
    "# Load input CSV file\n",
    "file_path = input(\"Please provide the path of the CSV file:\")\n",
    "text_column_index_str = input(\"Please provide the index for the text column:\")\n",
    "\n",
    "try:\n",
    "    text_column_index = int(text_column_index_str)\n",
    "except:\n",
    "    print(\"The input for the column index is incorrect.\")\n",
    "\n",
    "try:\n",
    "    df = pd.read_csv(file_path)\n",
    "except:\n",
    "    print(\"There seems to be an issue with the file path!\")\n",
    "    \n",
    "# Provide the name of the output CSV file\n",
    "output_file = input(\"Please provide the name of the output file along with its file format(.csv):\")"
   ]
  },
  {
   "cell_type": "code",
   "execution_count": null,
   "metadata": {},
   "outputs": [],
   "source": [
    "# Variables\n",
    "labeled_dict = {}"
   ]
  },
  {
   "cell_type": "code",
   "execution_count": null,
   "metadata": {},
   "outputs": [],
   "source": [
    "# Usage\n",
    "for index, row in df.iterrows():\n",
    "    input_sentence = row[text_column_index]\n",
    "    result = analyze_sentiment_three_classes(input_sentence)\n",
    "    sentence_index = index\n",
    "    labeled_dict = {'sentence':input_sentence, 'label':result}\n",
    "    df_labeled = pd.DataFrame(labeled_dict, index=[sentence_index])\n",
    "    df_labeled.to_csv(output_file, mode = 'a', index = False, header = False, sep = \",\")\n"
   ]
  }
 ],
 "metadata": {
  "kernelspec": {
   "display_name": "sen_tok",
   "language": "python",
   "name": "python3"
  },
  "language_info": {
   "codemirror_mode": {
    "name": "ipython",
    "version": 3
   },
   "file_extension": ".py",
   "mimetype": "text/x-python",
   "name": "python",
   "nbconvert_exporter": "python",
   "pygments_lexer": "ipython3",
   "version": "3.11.7"
  }
 },
 "nbformat": 4,
 "nbformat_minor": 2
}
